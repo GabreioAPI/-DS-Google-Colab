{
  "nbformat": 4,
  "nbformat_minor": 0,
  "metadata": {
    "colab": {
      "provenance": [],
      "authorship_tag": "ABX9TyOwnGE2n2vkAx5H1AWhUxk6",
      "include_colab_link": true
    },
    "kernelspec": {
      "name": "python3",
      "display_name": "Python 3"
    },
    "language_info": {
      "name": "python"
    }
  },
  "cells": [
    {
      "cell_type": "markdown",
      "metadata": {
        "id": "view-in-github",
        "colab_type": "text"
      },
      "source": [
        "<a href=\"https://colab.research.google.com/github/GabreioAPI/-DS-Google-Colab/blob/main/%5BDS%5D_Aula01.ipynb\" target=\"_parent\"><img src=\"https://colab.research.google.com/assets/colab-badge.svg\" alt=\"Open In Colab\"/></a>"
      ]
    },
    {
      "cell_type": "code",
      "execution_count": 4,
      "metadata": {
        "id": "Ddai70kZFHOy"
      },
      "outputs": [],
      "source": [
        "import pandas as pd"
      ]
    },
    {
      "cell_type": "code",
      "source": [
        "dataset = r'https://raw.githubusercontent.com/rafaelpuyau/infinity_school/main/ds/datasets/wine_billing.csv'\n",
        "df = pd.read_csv(dataset, sep=';')"
      ],
      "metadata": {
        "id": "TTaoDOK1NRff"
      },
      "execution_count": 6,
      "outputs": []
    },
    {
      "cell_type": "code",
      "source": [
        "df.head()"
      ],
      "metadata": {
        "id": "dARUkfuGN5DR"
      },
      "execution_count": null,
      "outputs": []
    },
    {
      "cell_type": "code",
      "source": [
        "df.info()"
      ],
      "metadata": {
        "colab": {
          "base_uri": "https://localhost:8080/"
        },
        "id": "2H55IX63N85q",
        "outputId": "2ebe86a1-adfb-47c8-92ce-fc02c89b8114"
      },
      "execution_count": 72,
      "outputs": [
        {
          "output_type": "stream",
          "name": "stdout",
          "text": [
            "<class 'pandas.core.frame.DataFrame'>\n",
            "RangeIndex: 45 entries, 0 to 44\n",
            "Data columns (total 4 columns):\n",
            " #   Column                  Non-Null Count  Dtype  \n",
            "---  ------                  --------------  -----  \n",
            " 0   data                    45 non-null     object \n",
            " 1   estilo                  45 non-null     object \n",
            " 2   quantidade de garrafas  45 non-null     int8   \n",
            " 3   preço da garrafa        45 non-null     float32\n",
            "dtypes: float32(1), int8(1), object(2)\n",
            "memory usage: 1.0+ KB\n"
          ]
        }
      ]
    },
    {
      "cell_type": "code",
      "source": [
        "df.columns"
      ],
      "metadata": {
        "id": "hkyUKsB3O4LU"
      },
      "execution_count": null,
      "outputs": []
    },
    {
      "cell_type": "code",
      "source": [
        "df['preço da garrafa'] = pd.to_numeric(df['preço da garrafa'],downcast = 'float')\n",
        "df['quantidade de garrafas'] = pd.to_numeric(df['quantidade de garrafas'],downcast = 'integer')\n"
      ],
      "metadata": {
        "id": "iHtCSc7TPOLB"
      },
      "execution_count": 20,
      "outputs": []
    },
    {
      "cell_type": "code",
      "source": [
        "df.info()"
      ],
      "metadata": {
        "id": "3oAC_LWLQGum"
      },
      "execution_count": null,
      "outputs": []
    },
    {
      "cell_type": "code",
      "source": [
        "df.describe()"
      ],
      "metadata": {
        "id": "TFMgc3HyQd0n"
      },
      "execution_count": null,
      "outputs": []
    },
    {
      "cell_type": "code",
      "source": [
        "df['estilo'].describe()"
      ],
      "metadata": {
        "id": "EDM9qHkUU081"
      },
      "execution_count": null,
      "outputs": []
    },
    {
      "cell_type": "code",
      "source": [
        "df.shape"
      ],
      "metadata": {
        "id": "Yv46LGZcViCX"
      },
      "execution_count": null,
      "outputs": []
    },
    {
      "cell_type": "code",
      "source": [
        "df.columns[2]"
      ],
      "metadata": {
        "id": "o0yTH4ZnXvQq"
      },
      "execution_count": null,
      "outputs": []
    },
    {
      "cell_type": "code",
      "source": [
        "df['quantidade de garrafas'].head()"
      ],
      "metadata": {
        "id": "5T07-VgZZL2E"
      },
      "execution_count": null,
      "outputs": []
    },
    {
      "cell_type": "code",
      "source": [
        "arquivo_fat = r'https://raw.githubusercontent.com/rafaelpuyau/infinity_school/main/ds/datasets/wine_billing.csv'\n",
        "df2 = pd.read_csv(arquivo_fat, sep=';', parse_dates=['data'])"
      ],
      "metadata": {
        "id": "6_5S2kmpgCqH"
      },
      "execution_count": 74,
      "outputs": []
    },
    {
      "cell_type": "code",
      "source": [
        "df2.head()\n",
        "df2['preço da garrafa'] = pd.to_numeric(df['preço da garrafa'],downcast = 'float')\n",
        "df2['quantidade de garrafas'] = pd.to_numeric(df['quantidade de garrafas'],downcast = 'integer')"
      ],
      "metadata": {
        "id": "WvCw2y3-gGn1"
      },
      "execution_count": 78,
      "outputs": []
    },
    {
      "cell_type": "code",
      "source": [
        "df2.info()"
      ],
      "metadata": {
        "colab": {
          "base_uri": "https://localhost:8080/"
        },
        "id": "W7RSKktegIQp",
        "outputId": "cca5f582-954c-44c9-e0ca-68876f7e492f"
      },
      "execution_count": 80,
      "outputs": [
        {
          "output_type": "stream",
          "name": "stdout",
          "text": [
            "<class 'pandas.core.frame.DataFrame'>\n",
            "RangeIndex: 45 entries, 0 to 44\n",
            "Data columns (total 4 columns):\n",
            " #   Column                  Non-Null Count  Dtype         \n",
            "---  ------                  --------------  -----         \n",
            " 0   data                    45 non-null     datetime64[ns]\n",
            " 1   estilo                  45 non-null     object        \n",
            " 2   quantidade de garrafas  45 non-null     int8          \n",
            " 3   preço da garrafa        45 non-null     float32       \n",
            "dtypes: datetime64[ns](1), float32(1), int8(1), object(1)\n",
            "memory usage: 1.0+ KB\n"
          ]
        }
      ]
    },
    {
      "cell_type": "code",
      "source": [
        "df2.describe()"
      ],
      "metadata": {
        "id": "vI10gxv5gcAv"
      },
      "execution_count": null,
      "outputs": []
    }
  ]
}